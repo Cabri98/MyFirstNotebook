{
  "metadata": {
    "kernelspec": {
      "name": "python",
      "display_name": "Python (Pyodide)",
      "language": "python"
    },
    "language_info": {
      "codemirror_mode": {
        "name": "python",
        "version": 3
      },
      "file_extension": ".py",
      "mimetype": "text/x-python",
      "name": "python",
      "nbconvert_exporter": "python",
      "pygments_lexer": "ipython3",
      "version": "3.8"
    }
  },
  "nbformat_minor": 5,
  "nbformat": 4,
  "cells": [
    {
      "id": "e044c020-fd95-4e46-849c-bd0c42f54f38",
      "cell_type": "markdown",
      "source": "# Data Science Tools and Ecosystem",
      "metadata": {}
    },
    {
      "id": "f7672fb3-b300-4a8c-97ce-5918f01affcc",
      "cell_type": "markdown",
      "source": "En este cuaderno, se resumen las herramientas y ecosistemas de ciencia de datos.",
      "metadata": {}
    },
    {
      "id": "375b192a-36df-43ed-8293-cbb119a2f565",
      "cell_type": "markdown",
      "source": "__Objetivos__\n+ Listar lenguajes de programación populares para la ciencia de datos.\n+ listar bibliotecas populares para la ciencia de datos.\n+ Realizar una tabla con algunas herramientas de código abierto del entorno de desarrollo utilizadas en ciencia de datos.\n+ Realizar un ejemplo de una evaluación de una expresión aritmética\n+ Realizar un código que convierta de minutos a horas.",
      "metadata": {}
    },
    {
      "id": "101acb57-a89b-4e83-a0da-ce883c9b321e",
      "cell_type": "markdown",
      "source": "En la ciencia de datos se utilizan distintos lenguajes de programación, sin embargo los más populares son:\n - Python\n- R\n- SQL",
      "metadata": {}
    },
    {
      "id": "679f1e71-ac8f-400d-8338-1d05276c7b2e",
      "cell_type": "markdown",
      "source": "Algunas de las bibliotecas que son utilizadas en la ciencia de datos son:\n1. Numpy\n2. Pandas\n3. scikit-learn",
      "metadata": {}
    },
    {
      "id": "7c338798-5ddb-4b2b-b1ff-d80c0d2f211e",
      "cell_type": "markdown",
      "source": "|Herramientas de Ciencia de Datos|\n|--------------------------------|\n|Jupyter Notebook|\n|Spyder|\n|Apache Airflow|\n",
      "metadata": {}
    },
    {
      "id": "04600e7c-69d2-4a6d-a13b-ff7fa047f43c",
      "cell_type": "markdown",
      "source": "### A continuación, se presentan algunos ejemplos de evaluación de expresiones aritméticas en Python.\n\n\n",
      "metadata": {}
    },
    {
      "id": "c700bf08-6980-46a9-af77-9bcbf718605b",
      "cell_type": "code",
      "source": "#Esta es una expresión aritmética simple para multiplicar y luego sumar enteros\n(3*4)+5",
      "metadata": {
        "trusted": true
      },
      "outputs": [
        {
          "execution_count": 7,
          "output_type": "execute_result",
          "data": {
            "text/plain": "17"
          },
          "metadata": {}
        }
      ],
      "execution_count": 7
    },
    {
      "id": "0f99fc8e-42d9-4da3-9c23-5d03fccf00f5",
      "cell_type": "code",
      "source": "# Esto convertirá 200 minutos a horas dividiendo por 60\n\nminutos = 200\n\nhoras = minutos/60\n\nprint(f\"{minutos} minutos son {horas:.2f} horas.\")",
      "metadata": {
        "trusted": true
      },
      "outputs": [
        {
          "name": "stdout",
          "output_type": "stream",
          "text": "200 minutos son 3.33 horas.\n"
        }
      ],
      "execution_count": 9
    },
    {
      "id": "61ae3897-03a7-425a-aaa4-13e77e6a02e8",
      "cell_type": "markdown",
      "source": "## Autor\n\nJosé Solano",
      "metadata": {}
    }
  ]
}